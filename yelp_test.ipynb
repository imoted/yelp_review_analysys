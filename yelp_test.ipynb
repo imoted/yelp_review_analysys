{
 "cells": [
  {
   "cell_type": "code",
   "execution_count": 28,
   "id": "2bda31a8",
   "metadata": {},
   "outputs": [],
   "source": [
    "import numpy as np\n",
    "import json"
   ]
  },
  {
   "cell_type": "code",
   "execution_count": 29,
   "id": "c029b1e4",
   "metadata": {},
   "outputs": [],
   "source": [
    "filename = \"dataset_my-task_2021-09-16_08-10-06-950.json\"\n",
    "with open(filename, \"r\") as f:\n",
    "    json_obj = json.load(f)"
   ]
  },
  {
   "cell_type": "code",
   "execution_count": 30,
   "id": "5524c3af",
   "metadata": {},
   "outputs": [],
   "source": [
    "# print(type(json_obj[0][\"reviews\"]))\n",
    "word_2d_list = []\n",
    "rating_list = []\n",
    "avoid_word_list = [\"(\", \")\", \"!\", \",\", \":\", \";\" ,\"?\", \".\"]\n",
    "\n",
    "for i in range(len(json_obj[0][\"reviews\"])):\n",
    "#     print(type(json_obj[0][\"reviews\"][i][\"text\"]))\n",
    "#     word_list.append()\n",
    "    word_list = json_obj[0][\"reviews\"][i][\"text\"].split()\n",
    "    for avoid_word in avoid_word_list:\n",
    "        word_list = [ x.replace(avoid_word, \"\") for x in word_list ]\n",
    "#     print(word_list)\n",
    "    word_2d_list.append(word_list)\n",
    "    rating_list.append(int(json_obj[0][\"reviews\"][i][\"rating\"]))\n",
    "# print(json_obj[0][\"reviews\"][0][\"text\"])"
   ]
  },
  {
   "cell_type": "code",
   "execution_count": 31,
   "id": "54d6fa65",
   "metadata": {},
   "outputs": [],
   "source": [
    "import collections\n",
    "word_cnt = collections.Counter()\n",
    "\n",
    "for word_list, rating in zip(word_2d_list, rating_list):\n",
    "    rating -= 3\n",
    "    for word in word_list:\n",
    "        word_cnt[word.lower()] += rating\n",
    "        "
   ]
  },
  {
   "cell_type": "code",
   "execution_count": 32,
   "id": "055fe90d",
   "metadata": {},
   "outputs": [],
   "source": [
    "# word_exaple_dict = word_cnt.copy()\n",
    "# for k, v in word_dict.items():\n",
    "#     word_dict[k]"
   ]
  },
  {
   "cell_type": "code",
   "execution_count": 33,
   "id": "c99da66d",
   "metadata": {},
   "outputs": [],
   "source": [
    "word_dict = word_cnt.copy()\n",
    "# print(word_dict)\n",
    "for k, v in word_dict.items():\n",
    "    word_dict[k] = list([v, 0 ,0, 0, 0, 0 ])\n",
    "#     print(word_dict[k])\n",
    "\n",
    "\n",
    "for word_list, rating in zip(word_2d_list, rating_list):\n",
    "    for word in word_list:\n",
    "        word_dict[word.lower()][rating ] += 1\n",
    "        if len(word_dict[word.lower()]) <= 6:\n",
    "            word_dict[word.lower()].append(word_list)\n",
    "        \n"
   ]
  },
  {
   "cell_type": "code",
   "execution_count": 34,
   "id": "c7247120",
   "metadata": {},
   "outputs": [
    {
     "name": "stdout",
     "output_type": "stream",
     "text": [
      "[54, 0, 1, 1, 13, 21, ['wait', 'on', 'a', 'tuesday', 'night', 'was', 'only', 'about', '30', 'minutes', 'spicy', 'tantanmen', 'seasonal', 'special', 'not', 'too', 'spicy', 'noodles', 'perfect', 'chewiness', 'soup', 'was', 'rich', 'and', 'not', 'too', 'spicy', 'and', 'stuck', 'to', 'the', 'noodles', 'well', 'it', 'also', 'had', 'ground', 'spicy', 'chicken', 'and', 'a', 'perfectly', 'soft', 'boiled', 'egg', 'karaage', 'chicken', 'was', 'light', 'and', 'crispy', 'and', 'the', 'inside', 'was', 'soft', 'and', 'juicy', 'sauce', 'was', 'a', 'nice', 'tartar', 'sauce']]\n"
     ]
    }
   ],
   "source": [
    "print(word_dict[\"tuesday\"])"
   ]
  },
  {
   "cell_type": "code",
   "execution_count": 36,
   "id": "7327982b",
   "metadata": {},
   "outputs": [],
   "source": [
    "# print(word_cnt)\n",
    "import csv\n",
    "\n",
    "output_file_name = \"output.csv\"\n",
    "\n",
    "with open(output_file_name, \"w\") as f:\n",
    "    writer = csv.writer(f)\n",
    "    writer.writerow([\"word\", \"review総計\" , \"星1\", \"星2\", \"星3\", \"星4\", \"星5\", \"例文\"])\n",
    "    for k,v in word_dict.items():\n",
    "        writer.writerow([k, v[0], v[1], v[2], v[2], v[4], v[5], v[6] ])"
   ]
  },
  {
   "cell_type": "code",
   "execution_count": null,
   "id": "e8d68293",
   "metadata": {},
   "outputs": [],
   "source": []
  },
  {
   "cell_type": "code",
   "execution_count": null,
   "id": "9601dd98",
   "metadata": {},
   "outputs": [],
   "source": []
  },
  {
   "cell_type": "code",
   "execution_count": null,
   "id": "e3f0957b",
   "metadata": {},
   "outputs": [],
   "source": []
  },
  {
   "cell_type": "code",
   "execution_count": null,
   "id": "f9217fa1",
   "metadata": {},
   "outputs": [],
   "source": []
  }
 ],
 "metadata": {
  "kernelspec": {
   "display_name": "Python 3",
   "language": "python",
   "name": "python3"
  },
  "language_info": {
   "codemirror_mode": {
    "name": "ipython",
    "version": 3
   },
   "file_extension": ".py",
   "mimetype": "text/x-python",
   "name": "python",
   "nbconvert_exporter": "python",
   "pygments_lexer": "ipython3",
   "version": "3.6.9"
  }
 },
 "nbformat": 4,
 "nbformat_minor": 5
}

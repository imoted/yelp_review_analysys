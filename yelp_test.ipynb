{
 "cells": [
  {
   "cell_type": "code",
   "execution_count": 277,
   "id": "2bda31a8",
   "metadata": {},
   "outputs": [],
   "source": [
    "import numpy as np\n",
    "import json\n",
    "import os\n",
    "import collections\n",
    "import csv"
   ]
  },
  {
   "cell_type": "code",
   "execution_count": 278,
   "id": "c029b1e4",
   "metadata": {},
   "outputs": [],
   "source": [
    "# Jsonファイルの読み込み\n",
    "\n",
    "filename = \"dataset_my-task_2021-09-16_08-10-06-950.json\"\n",
    "dir_name = \"log/\"\n",
    "\n",
    "with open(filename, \"r\") as f:\n",
    "    json_obj = json.load(f)"
   ]
  },
  {
   "cell_type": "code",
   "execution_count": 279,
   "id": "5524c3af",
   "metadata": {},
   "outputs": [],
   "source": [
    "# review のtextとrating / wordのリスト化\n",
    "\n",
    "word_2d_list = []\n",
    "rating_list = []\n",
    "text_list = []\n",
    "reviewer_loc_list = []\n",
    "reviewers_cnt_list= []\n",
    "is_funny_cnt_list = []\n",
    "is_useful_cnt_list = []\n",
    "is_cool_cnt_list = []\n",
    "avoid_word_list = [\"(\", \")\", \"!\", \",\", \":\", \";\" ,\"?\", \".\", \"+\", \"--\", \"\\\"\", \"/\", \"#\"]\n",
    "\n",
    "\n",
    "for i in range(len(json_obj[0][\"reviews\"])):\n",
    "    word_list = json_obj[0][\"reviews\"][i][\"text\"].split()\n",
    "    text_list.append(json_obj[0][\"reviews\"][i][\"text\"])\n",
    "    for avoid_word in avoid_word_list:\n",
    "        word_list = [ x.replace(avoid_word, \"\").lower() for x in word_list]\n",
    "    word_list = [x for x in word_list if not x.isdigit() and x != \"\" and len(x) < 20 and len(x) != 0]\n",
    "    word_2d_list.append(word_list)\n",
    "    rating_list.append(int(json_obj[0][\"reviews\"][i][\"rating\"]))\n",
    "    reviewer_loc_list.append(json_obj[0][\"reviews\"][i][\"reviewerLocation\"])\n",
    "    reviewers_cnt_list.append(json_obj[0][\"reviews\"][i][\"reviewerReviewCount\"])\n",
    "    is_cool_cnt_list.append(json_obj[0][\"reviews\"][i][\"isCoolCount\"])\n",
    "    is_funny_cnt_list.append(json_obj[0][\"reviews\"][i][\"isFunnyCount\"])\n",
    "    is_useful_cnt_list.append(json_obj[0][\"reviews\"][i][\"isUsefulCount\"])\n",
    "# print(json_obj[0][\"reviews\"][0][\"text\"])"
   ]
  },
  {
   "cell_type": "code",
   "execution_count": 280,
   "id": "54d6fa65",
   "metadata": {},
   "outputs": [],
   "source": [
    "# wordを集計\n",
    "\n",
    "word_cnt = collections.Counter()\n",
    "\n",
    "for word_list, rating in zip(word_2d_list, rating_list):\n",
    "    rating_val = rating - 3\n",
    "    for word in word_list:\n",
    "        word_cnt[word.lower()] += rating_val"
   ]
  },
  {
   "cell_type": "code",
   "execution_count": 281,
   "id": "c99da66d",
   "metadata": {},
   "outputs": [],
   "source": [
    "# 星毎に、星の数を集計\n",
    "\n",
    "word_dict = word_cnt.copy()\n",
    "# print(word_dict)\n",
    "for k, v in word_dict.items():\n",
    "    word_dict[k] = list([v, 0 ,0, 0, 0, 0 ])\n",
    "#     print(word_dict[k])\n",
    "\n",
    "for word_list, rating in zip(word_2d_list, rating_list):\n",
    "    for word in word_list:\n",
    "        word_dict[word.lower()][rating ] += 1\n",
    "#         if len(word_dict[word.lower()]) <= 6: # 例文をappend済みでなければ\n",
    "#             word_dict[word.lower()].append(word_list)\n"
   ]
  },
  {
   "cell_type": "code",
   "execution_count": 282,
   "id": "1b7aa3ea",
   "metadata": {},
   "outputs": [],
   "source": [
    "# review textをword毎に集計\n",
    "\n",
    "output_example_wordlist = [\"ramen\", \"tantanmen\"]\n",
    "\n",
    "for output_example in output_example_wordlist:\n",
    "    if os.path.exists(dir_name + output_example.lower() + \"_check_\" + \".txt\"):\n",
    "        continue\n",
    "    else:\n",
    "        with open(dir_name + output_example.lower() + \"_check_\" + \".txt\", \"w\") as f:\n",
    "            pass\n",
    "        for word_list, text, rating, reviewer_loc, reviewers_cnt, is_cool_cnt, is_funny_cnt, is_useful_cnt in zip(word_2d_list, text_list, rating_list, reviewer_loc_list, reviewers_cnt_list, is_cool_cnt_list, is_funny_cnt_list, is_useful_cnt_list ):\n",
    "            for word in word_list:\n",
    "                if word == output_example:\n",
    "                    with open(dir_name + word.lower() + \"_rating_\" + str(rating) + \".txt\", \"a\") as f:\n",
    "                        f.writelines(\"reviewer Location : \" + reviewer_loc + \"\\n\")\n",
    "                        f.writelines(\"Reviewer Count : \" + str(reviewers_cnt) + \"\\n\")\n",
    "                        f.writelines(\"is Funny Count : \" + str(is_funny_cnt) + \"\\n\")\n",
    "                        f.writelines(\"is Usuful Count : \" + str(is_useful_cnt) + \"\\n\")\n",
    "                        f.writelines(\"is Cool Count : \" + str(is_cool_cnt) + \"\\n\\n\")\n",
    "                        f.writelines(text)\n",
    "                        f.writelines(\"\\n\\n===========================================\\n\\n\")\n",
    "                    break"
   ]
  },
  {
   "cell_type": "code",
   "execution_count": 283,
   "id": "4af8a49e",
   "metadata": {},
   "outputs": [],
   "source": [
    "# 全ワードのtext列挙\n",
    "\n",
    "for word_d in word_dict.keys():\n",
    "    if os.path.exists(dir_name + word_d.lower() + \"_check_\" + \".txt\"):\n",
    "        continue\n",
    "    else:\n",
    "        with open(dir_name + word_d.lower() + \"_check_\" + \".txt\", \"w\") as f:\n",
    "            pass \n",
    "    for word_list, text, rating, reviewer_loc, reviewers_cnt, is_cool_cnt, is_funny_cnt, is_useful_cnt in zip(word_2d_list, text_list, rating_list, reviewer_loc_list, reviewers_cnt_list, is_cool_cnt_list, is_funny_cnt_list, is_useful_cnt_list ):\n",
    "        for word in word_list:\n",
    "            if word == word_d:\n",
    "                with open(dir_name + word.lower() + \"_rating_\" + str(rating) + \".txt\", \"a\") as f:\n",
    "                    f.writelines(\"reviewer Location : \" + reviewer_loc + \"\\n\")\n",
    "                    f.writelines(\"Reviewer Count : \" + str(reviewers_cnt) + \"\\n\")\n",
    "                    f.writelines(\"is Funny Count : \" + str(is_funny_cnt) + \"\\n\")\n",
    "                    f.writelines(\"is Usuful Count : \" + str(is_useful_cnt) + \"\\n\")\n",
    "                    f.writelines(\"is Cool Count : \" + str(is_cool_cnt) + \"\\n\\n\")\n",
    "                    f.writelines(text)\n",
    "                    f.writelines(\"\\n\\n===========================================\\n\\n\")\n",
    "                break"
   ]
  },
  {
   "cell_type": "code",
   "execution_count": 275,
   "id": "7327982b",
   "metadata": {},
   "outputs": [],
   "source": [
    "# sortしてファイルに出力\n",
    "\n",
    "output_file_name = dir_name + \"output.csv\"\n",
    "\n",
    "word_dict_sorted = sorted(word_dict.items(), key=lambda x:x[1], reverse=True)\n",
    "\n",
    "with open(output_file_name, \"w\") as f:\n",
    "    writer = csv.writer(f)\n",
    "    writer.writerow([\"word\", \"review総計\" , \"星1\", \"星2\", \"星3\", \"星4\", \"星5\"])\n",
    "    for data_list in word_dict_sorted:\n",
    "        writer.writerow([ data_list[0], data_list[1][0], data_list[1][1], data_list[1][2], data_list[1][3], data_list[1][4], data_list[1][5] ])"
   ]
  },
  {
   "cell_type": "code",
   "execution_count": null,
   "id": "c7247120",
   "metadata": {},
   "outputs": [],
   "source": []
  },
  {
   "cell_type": "code",
   "execution_count": 11,
   "id": "e8d68293",
   "metadata": {},
   "outputs": [],
   "source": []
  },
  {
   "cell_type": "code",
   "execution_count": null,
   "id": "9601dd98",
   "metadata": {},
   "outputs": [],
   "source": []
  },
  {
   "cell_type": "code",
   "execution_count": null,
   "id": "e3f0957b",
   "metadata": {},
   "outputs": [],
   "source": []
  },
  {
   "cell_type": "code",
   "execution_count": null,
   "id": "f9217fa1",
   "metadata": {},
   "outputs": [],
   "source": []
  }
 ],
 "metadata": {
  "kernelspec": {
   "display_name": "Python 3",
   "language": "python",
   "name": "python3"
  },
  "language_info": {
   "codemirror_mode": {
    "name": "ipython",
    "version": 3
   },
   "file_extension": ".py",
   "mimetype": "text/x-python",
   "name": "python",
   "nbconvert_exporter": "python",
   "pygments_lexer": "ipython3",
   "version": "3.6.9"
  }
 },
 "nbformat": 4,
 "nbformat_minor": 5
}
